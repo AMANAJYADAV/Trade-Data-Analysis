{
 "cells": [
  {
   "cell_type": "markdown",
   "id": "f0f7de97-3f69-481f-a292-828343ea10ee",
   "metadata": {},
   "source": [
    "# Data Exploration & Cleaning "
   ]
  },
  {
   "cell_type": "code",
   "execution_count": 16,
   "id": "01a92d78-ff35-4356-bb28-1184dd0ef8a1",
   "metadata": {},
   "outputs": [],
   "source": [
    "import pandas as pd\n",
    "import numpy as np\n",
    "import matplotlib.pyplot as plt\n",
    "import seaborn as sns\n",
    "import ast"
   ]
  },
  {
   "cell_type": "code",
   "execution_count": 4,
   "id": "9c4eaf7c-6349-4ec7-b5e3-95cfaf474e1a",
   "metadata": {},
   "outputs": [],
   "source": [
    "df = pd.read_csv(\"TRADES_CopyTr_90D_ROI.csv\")\n"
   ]
  },
  {
   "cell_type": "code",
   "execution_count": 6,
   "id": "9401147c-b610-4189-85cc-187dbdde96fb",
   "metadata": {},
   "outputs": [
    {
     "data": {
      "text/html": [
       "<div>\n",
       "<style scoped>\n",
       "    .dataframe tbody tr th:only-of-type {\n",
       "        vertical-align: middle;\n",
       "    }\n",
       "\n",
       "    .dataframe tbody tr th {\n",
       "        vertical-align: top;\n",
       "    }\n",
       "\n",
       "    .dataframe thead th {\n",
       "        text-align: right;\n",
       "    }\n",
       "</style>\n",
       "<table border=\"1\" class=\"dataframe\">\n",
       "  <thead>\n",
       "    <tr style=\"text-align: right;\">\n",
       "      <th></th>\n",
       "      <th>Port_IDs</th>\n",
       "      <th>Trade_History</th>\n",
       "    </tr>\n",
       "  </thead>\n",
       "  <tbody>\n",
       "    <tr>\n",
       "      <th>0</th>\n",
       "      <td>3925368433214965504</td>\n",
       "      <td>[{'time': 1718899656000, 'symbol': 'SOLUSDT', ...</td>\n",
       "    </tr>\n",
       "    <tr>\n",
       "      <th>1</th>\n",
       "      <td>4002413037164645377</td>\n",
       "      <td>[{'time': 1718980078000, 'symbol': 'NEARUSDT',...</td>\n",
       "    </tr>\n",
       "    <tr>\n",
       "      <th>2</th>\n",
       "      <td>3923766029921022977</td>\n",
       "      <td>[{'time': 1718677164000, 'symbol': 'ETHUSDT', ...</td>\n",
       "    </tr>\n",
       "    <tr>\n",
       "      <th>3</th>\n",
       "      <td>3994879592543698688</td>\n",
       "      <td>[{'time': 1718678214000, 'symbol': 'ETHUSDT', ...</td>\n",
       "    </tr>\n",
       "  </tbody>\n",
       "</table>\n",
       "</div>"
      ],
      "text/plain": [
       "              Port_IDs                                      Trade_History\n",
       "0  3925368433214965504  [{'time': 1718899656000, 'symbol': 'SOLUSDT', ...\n",
       "1  4002413037164645377  [{'time': 1718980078000, 'symbol': 'NEARUSDT',...\n",
       "2  3923766029921022977  [{'time': 1718677164000, 'symbol': 'ETHUSDT', ...\n",
       "3  3994879592543698688  [{'time': 1718678214000, 'symbol': 'ETHUSDT', ..."
      ]
     },
     "execution_count": 6,
     "metadata": {},
     "output_type": "execute_result"
    }
   ],
   "source": [
    "df.head(4)"
   ]
  },
  {
   "cell_type": "code",
   "execution_count": 8,
   "id": "507e0271-e7ed-4954-adf0-c0c7bc1df914",
   "metadata": {},
   "outputs": [
    {
     "name": "stdout",
     "output_type": "stream",
     "text": [
      "<class 'pandas.core.frame.DataFrame'>\n",
      "RangeIndex: 150 entries, 0 to 149\n",
      "Data columns (total 2 columns):\n",
      " #   Column         Non-Null Count  Dtype \n",
      "---  ------         --------------  ----- \n",
      " 0   Port_IDs       150 non-null    int64 \n",
      " 1   Trade_History  149 non-null    object\n",
      "dtypes: int64(1), object(1)\n",
      "memory usage: 2.5+ KB\n"
     ]
    }
   ],
   "source": [
    "df.info()"
   ]
  },
  {
   "cell_type": "code",
   "execution_count": 10,
   "id": "e514a548-f8a5-44c9-8b34-a0b931535b40",
   "metadata": {},
   "outputs": [
    {
     "data": {
      "text/html": [
       "<div>\n",
       "<style scoped>\n",
       "    .dataframe tbody tr th:only-of-type {\n",
       "        vertical-align: middle;\n",
       "    }\n",
       "\n",
       "    .dataframe tbody tr th {\n",
       "        vertical-align: top;\n",
       "    }\n",
       "\n",
       "    .dataframe thead th {\n",
       "        text-align: right;\n",
       "    }\n",
       "</style>\n",
       "<table border=\"1\" class=\"dataframe\">\n",
       "  <thead>\n",
       "    <tr style=\"text-align: right;\">\n",
       "      <th></th>\n",
       "      <th>Port_IDs</th>\n",
       "    </tr>\n",
       "  </thead>\n",
       "  <tbody>\n",
       "    <tr>\n",
       "      <th>count</th>\n",
       "      <td>1.500000e+02</td>\n",
       "    </tr>\n",
       "    <tr>\n",
       "      <th>mean</th>\n",
       "      <td>3.975655e+18</td>\n",
       "    </tr>\n",
       "    <tr>\n",
       "      <th>std</th>\n",
       "      <td>6.887470e+16</td>\n",
       "    </tr>\n",
       "    <tr>\n",
       "      <th>min</th>\n",
       "      <td>3.672755e+18</td>\n",
       "    </tr>\n",
       "    <tr>\n",
       "      <th>25%</th>\n",
       "      <td>3.943672e+18</td>\n",
       "    </tr>\n",
       "    <tr>\n",
       "      <th>50%</th>\n",
       "      <td>3.998616e+18</td>\n",
       "    </tr>\n",
       "    <tr>\n",
       "      <th>75%</th>\n",
       "      <td>4.029508e+18</td>\n",
       "    </tr>\n",
       "    <tr>\n",
       "      <th>max</th>\n",
       "      <td>4.041860e+18</td>\n",
       "    </tr>\n",
       "  </tbody>\n",
       "</table>\n",
       "</div>"
      ],
      "text/plain": [
       "           Port_IDs\n",
       "count  1.500000e+02\n",
       "mean   3.975655e+18\n",
       "std    6.887470e+16\n",
       "min    3.672755e+18\n",
       "25%    3.943672e+18\n",
       "50%    3.998616e+18\n",
       "75%    4.029508e+18\n",
       "max    4.041860e+18"
      ]
     },
     "execution_count": 10,
     "metadata": {},
     "output_type": "execute_result"
    }
   ],
   "source": [
    "df.describe()"
   ]
  },
  {
   "cell_type": "code",
   "execution_count": 12,
   "id": "3188ecd3-1629-4e93-95ad-87a888e7ebc5",
   "metadata": {},
   "outputs": [],
   "source": [
    "df.dropna(subset=[\"Trade_History\"], inplace=True)\n"
   ]
  },
  {
   "cell_type": "code",
   "execution_count": 14,
   "id": "d64a153a-7515-4ccd-969b-4f09436551fb",
   "metadata": {},
   "outputs": [
    {
     "name": "stdout",
     "output_type": "stream",
     "text": [
      "<class 'pandas.core.frame.DataFrame'>\n",
      "Index: 149 entries, 0 to 149\n",
      "Data columns (total 2 columns):\n",
      " #   Column         Non-Null Count  Dtype \n",
      "---  ------         --------------  ----- \n",
      " 0   Port_IDs       149 non-null    int64 \n",
      " 1   Trade_History  149 non-null    object\n",
      "dtypes: int64(1), object(1)\n",
      "memory usage: 3.5+ KB\n"
     ]
    }
   ],
   "source": [
    "df.info()"
   ]
  },
  {
   "cell_type": "code",
   "execution_count": 18,
   "id": "c4b5d899-8728-4472-8b89-8c26067074b5",
   "metadata": {},
   "outputs": [],
   "source": [
    "df[\"Trade_History\"] = df[\"Trade_History\"].apply(ast.literal_eval)"
   ]
  },
  {
   "cell_type": "code",
   "execution_count": 20,
   "id": "c0661d5f-331a-4b62-bf5e-a3169de9c74a",
   "metadata": {},
   "outputs": [
    {
     "name": "stdout",
     "output_type": "stream",
     "text": [
      "<class 'pandas.core.frame.DataFrame'>\n",
      "Index: 149 entries, 0 to 149\n",
      "Data columns (total 2 columns):\n",
      " #   Column         Non-Null Count  Dtype \n",
      "---  ------         --------------  ----- \n",
      " 0   Port_IDs       149 non-null    int64 \n",
      " 1   Trade_History  149 non-null    object\n",
      "dtypes: int64(1), object(1)\n",
      "memory usage: 3.5+ KB\n"
     ]
    }
   ],
   "source": [
    "df.info()"
   ]
  },
  {
   "cell_type": "code",
   "execution_count": 23,
   "id": "81d29fc1-8881-4ee0-89da-5b409a6f8ee4",
   "metadata": {},
   "outputs": [
    {
     "data": {
      "text/html": [
       "<div>\n",
       "<style scoped>\n",
       "    .dataframe tbody tr th:only-of-type {\n",
       "        vertical-align: middle;\n",
       "    }\n",
       "\n",
       "    .dataframe tbody tr th {\n",
       "        vertical-align: top;\n",
       "    }\n",
       "\n",
       "    .dataframe thead th {\n",
       "        text-align: right;\n",
       "    }\n",
       "</style>\n",
       "<table border=\"1\" class=\"dataframe\">\n",
       "  <thead>\n",
       "    <tr style=\"text-align: right;\">\n",
       "      <th></th>\n",
       "      <th>Port_IDs</th>\n",
       "      <th>Trade_History</th>\n",
       "    </tr>\n",
       "  </thead>\n",
       "  <tbody>\n",
       "    <tr>\n",
       "      <th>0</th>\n",
       "      <td>3925368433214965504</td>\n",
       "      <td>[{'time': 1718899656000, 'symbol': 'SOLUSDT', ...</td>\n",
       "    </tr>\n",
       "    <tr>\n",
       "      <th>1</th>\n",
       "      <td>4002413037164645377</td>\n",
       "      <td>[{'time': 1718980078000, 'symbol': 'NEARUSDT',...</td>\n",
       "    </tr>\n",
       "    <tr>\n",
       "      <th>2</th>\n",
       "      <td>3923766029921022977</td>\n",
       "      <td>[{'time': 1718677164000, 'symbol': 'ETHUSDT', ...</td>\n",
       "    </tr>\n",
       "    <tr>\n",
       "      <th>3</th>\n",
       "      <td>3994879592543698688</td>\n",
       "      <td>[{'time': 1718678214000, 'symbol': 'ETHUSDT', ...</td>\n",
       "    </tr>\n",
       "  </tbody>\n",
       "</table>\n",
       "</div>"
      ],
      "text/plain": [
       "              Port_IDs                                      Trade_History\n",
       "0  3925368433214965504  [{'time': 1718899656000, 'symbol': 'SOLUSDT', ...\n",
       "1  4002413037164645377  [{'time': 1718980078000, 'symbol': 'NEARUSDT',...\n",
       "2  3923766029921022977  [{'time': 1718677164000, 'symbol': 'ETHUSDT', ...\n",
       "3  3994879592543698688  [{'time': 1718678214000, 'symbol': 'ETHUSDT', ..."
      ]
     },
     "execution_count": 23,
     "metadata": {},
     "output_type": "execute_result"
    }
   ],
   "source": [
    "df.head(4)"
   ]
  },
  {
   "cell_type": "markdown",
   "id": "49833beb-05c2-454f-8161-2b09870bc5d2",
   "metadata": {},
   "source": [
    "### Expand trade history into a structured DataFrame."
   ]
  },
  {
   "cell_type": "code",
   "execution_count": 27,
   "id": "6fa6535b-ae0e-4678-9eb7-c2c04a8598ea",
   "metadata": {},
   "outputs": [],
   "source": [
    "trade_records = []\n",
    "for _, row in df.iterrows():\n",
    "    port_id = row[\"Port_IDs\"]\n",
    "    for trade in row[\"Trade_History\"]:\n",
    "        trade[\"Port_IDs\"] = port_id  \n",
    "        trade_records.append(trade)\n",
    "\n",
    "trade_df = pd.DataFrame(trade_records)"
   ]
  },
  {
   "cell_type": "code",
   "execution_count": 29,
   "id": "a0a70643-1871-40cb-97cc-25a48d3a633a",
   "metadata": {},
   "outputs": [
    {
     "data": {
      "text/html": [
       "<div>\n",
       "<style scoped>\n",
       "    .dataframe tbody tr th:only-of-type {\n",
       "        vertical-align: middle;\n",
       "    }\n",
       "\n",
       "    .dataframe tbody tr th {\n",
       "        vertical-align: top;\n",
       "    }\n",
       "\n",
       "    .dataframe thead th {\n",
       "        text-align: right;\n",
       "    }\n",
       "</style>\n",
       "<table border=\"1\" class=\"dataframe\">\n",
       "  <thead>\n",
       "    <tr style=\"text-align: right;\">\n",
       "      <th></th>\n",
       "      <th>time</th>\n",
       "      <th>symbol</th>\n",
       "      <th>side</th>\n",
       "      <th>price</th>\n",
       "      <th>fee</th>\n",
       "      <th>feeAsset</th>\n",
       "      <th>quantity</th>\n",
       "      <th>quantityAsset</th>\n",
       "      <th>realizedProfit</th>\n",
       "      <th>realizedProfitAsset</th>\n",
       "      <th>baseAsset</th>\n",
       "      <th>qty</th>\n",
       "      <th>positionSide</th>\n",
       "      <th>activeBuy</th>\n",
       "      <th>Port_IDs</th>\n",
       "    </tr>\n",
       "  </thead>\n",
       "  <tbody>\n",
       "    <tr>\n",
       "      <th>0</th>\n",
       "      <td>1718899656000</td>\n",
       "      <td>SOLUSDT</td>\n",
       "      <td>BUY</td>\n",
       "      <td>132.53700</td>\n",
       "      <td>-0.994027</td>\n",
       "      <td>USDT</td>\n",
       "      <td>1988.05500</td>\n",
       "      <td>USDT</td>\n",
       "      <td>0.0</td>\n",
       "      <td>USDT</td>\n",
       "      <td>SOL</td>\n",
       "      <td>15.0</td>\n",
       "      <td>LONG</td>\n",
       "      <td>True</td>\n",
       "      <td>3925368433214965504</td>\n",
       "    </tr>\n",
       "    <tr>\n",
       "      <th>1</th>\n",
       "      <td>1718899618000</td>\n",
       "      <td>DOGEUSDT</td>\n",
       "      <td>BUY</td>\n",
       "      <td>0.12182</td>\n",
       "      <td>-0.279796</td>\n",
       "      <td>USDT</td>\n",
       "      <td>1398.98088</td>\n",
       "      <td>USDT</td>\n",
       "      <td>0.0</td>\n",
       "      <td>USDT</td>\n",
       "      <td>DOGE</td>\n",
       "      <td>11484.0</td>\n",
       "      <td>LONG</td>\n",
       "      <td>False</td>\n",
       "      <td>3925368433214965504</td>\n",
       "    </tr>\n",
       "    <tr>\n",
       "      <th>2</th>\n",
       "      <td>1718899618000</td>\n",
       "      <td>DOGEUSDT</td>\n",
       "      <td>BUY</td>\n",
       "      <td>0.12182</td>\n",
       "      <td>-0.039494</td>\n",
       "      <td>USDT</td>\n",
       "      <td>197.47022</td>\n",
       "      <td>USDT</td>\n",
       "      <td>0.0</td>\n",
       "      <td>USDT</td>\n",
       "      <td>DOGE</td>\n",
       "      <td>1621.0</td>\n",
       "      <td>LONG</td>\n",
       "      <td>False</td>\n",
       "      <td>3925368433214965504</td>\n",
       "    </tr>\n",
       "    <tr>\n",
       "      <th>3</th>\n",
       "      <td>1718899616000</td>\n",
       "      <td>DOGEUSDT</td>\n",
       "      <td>BUY</td>\n",
       "      <td>0.12182</td>\n",
       "      <td>-0.008284</td>\n",
       "      <td>USDT</td>\n",
       "      <td>16.56752</td>\n",
       "      <td>USDT</td>\n",
       "      <td>0.0</td>\n",
       "      <td>USDT</td>\n",
       "      <td>DOGE</td>\n",
       "      <td>136.0</td>\n",
       "      <td>LONG</td>\n",
       "      <td>True</td>\n",
       "      <td>3925368433214965504</td>\n",
       "    </tr>\n",
       "  </tbody>\n",
       "</table>\n",
       "</div>"
      ],
      "text/plain": [
       "            time    symbol side      price       fee feeAsset    quantity  \\\n",
       "0  1718899656000   SOLUSDT  BUY  132.53700 -0.994027     USDT  1988.05500   \n",
       "1  1718899618000  DOGEUSDT  BUY    0.12182 -0.279796     USDT  1398.98088   \n",
       "2  1718899618000  DOGEUSDT  BUY    0.12182 -0.039494     USDT   197.47022   \n",
       "3  1718899616000  DOGEUSDT  BUY    0.12182 -0.008284     USDT    16.56752   \n",
       "\n",
       "  quantityAsset  realizedProfit realizedProfitAsset baseAsset      qty  \\\n",
       "0          USDT             0.0                USDT       SOL     15.0   \n",
       "1          USDT             0.0                USDT      DOGE  11484.0   \n",
       "2          USDT             0.0                USDT      DOGE   1621.0   \n",
       "3          USDT             0.0                USDT      DOGE    136.0   \n",
       "\n",
       "  positionSide  activeBuy             Port_IDs  \n",
       "0         LONG       True  3925368433214965504  \n",
       "1         LONG      False  3925368433214965504  \n",
       "2         LONG      False  3925368433214965504  \n",
       "3         LONG       True  3925368433214965504  "
      ]
     },
     "execution_count": 29,
     "metadata": {},
     "output_type": "execute_result"
    }
   ],
   "source": [
    "trade_df.head(4)"
   ]
  },
  {
   "cell_type": "code",
   "execution_count": 31,
   "id": "f8b8b96e-5159-4c39-9cd2-de871a706db1",
   "metadata": {},
   "outputs": [
    {
     "name": "stdout",
     "output_type": "stream",
     "text": [
      "<class 'pandas.core.frame.DataFrame'>\n",
      "RangeIndex: 211277 entries, 0 to 211276\n",
      "Data columns (total 15 columns):\n",
      " #   Column               Non-Null Count   Dtype  \n",
      "---  ------               --------------   -----  \n",
      " 0   time                 211277 non-null  int64  \n",
      " 1   symbol               211277 non-null  object \n",
      " 2   side                 211277 non-null  object \n",
      " 3   price                211277 non-null  float64\n",
      " 4   fee                  211277 non-null  float64\n",
      " 5   feeAsset             211277 non-null  object \n",
      " 6   quantity             211277 non-null  float64\n",
      " 7   quantityAsset        211277 non-null  object \n",
      " 8   realizedProfit       211277 non-null  float64\n",
      " 9   realizedProfitAsset  211277 non-null  object \n",
      " 10  baseAsset            211277 non-null  object \n",
      " 11  qty                  211277 non-null  float64\n",
      " 12  positionSide         211277 non-null  object \n",
      " 13  activeBuy            211277 non-null  bool   \n",
      " 14  Port_IDs             211277 non-null  int64  \n",
      "dtypes: bool(1), float64(5), int64(2), object(7)\n",
      "memory usage: 22.8+ MB\n"
     ]
    }
   ],
   "source": [
    "trade_df.info()"
   ]
  },
  {
   "cell_type": "code",
   "execution_count": 33,
   "id": "ba5d8adb-faf6-4596-804a-0cb25aa666c0",
   "metadata": {},
   "outputs": [],
   "source": [
    "if \"time\" in trade_df.columns:\n",
    "    trade_df[\"time\"] = pd.to_datetime(trade_df[\"time\"], unit='ms')"
   ]
  },
  {
   "cell_type": "code",
   "execution_count": 35,
   "id": "d78b417c-ed9f-4cf4-8c80-8e821c385175",
   "metadata": {},
   "outputs": [
    {
     "data": {
      "text/html": [
       "<div>\n",
       "<style scoped>\n",
       "    .dataframe tbody tr th:only-of-type {\n",
       "        vertical-align: middle;\n",
       "    }\n",
       "\n",
       "    .dataframe tbody tr th {\n",
       "        vertical-align: top;\n",
       "    }\n",
       "\n",
       "    .dataframe thead th {\n",
       "        text-align: right;\n",
       "    }\n",
       "</style>\n",
       "<table border=\"1\" class=\"dataframe\">\n",
       "  <thead>\n",
       "    <tr style=\"text-align: right;\">\n",
       "      <th></th>\n",
       "      <th>time</th>\n",
       "      <th>symbol</th>\n",
       "      <th>side</th>\n",
       "      <th>price</th>\n",
       "      <th>fee</th>\n",
       "      <th>feeAsset</th>\n",
       "      <th>quantity</th>\n",
       "      <th>quantityAsset</th>\n",
       "      <th>realizedProfit</th>\n",
       "      <th>realizedProfitAsset</th>\n",
       "      <th>baseAsset</th>\n",
       "      <th>qty</th>\n",
       "      <th>positionSide</th>\n",
       "      <th>activeBuy</th>\n",
       "      <th>Port_IDs</th>\n",
       "    </tr>\n",
       "  </thead>\n",
       "  <tbody>\n",
       "    <tr>\n",
       "      <th>0</th>\n",
       "      <td>2024-06-20 16:07:36</td>\n",
       "      <td>SOLUSDT</td>\n",
       "      <td>BUY</td>\n",
       "      <td>132.53700</td>\n",
       "      <td>-0.994027</td>\n",
       "      <td>USDT</td>\n",
       "      <td>1988.05500</td>\n",
       "      <td>USDT</td>\n",
       "      <td>0.0</td>\n",
       "      <td>USDT</td>\n",
       "      <td>SOL</td>\n",
       "      <td>15.0</td>\n",
       "      <td>LONG</td>\n",
       "      <td>True</td>\n",
       "      <td>3925368433214965504</td>\n",
       "    </tr>\n",
       "    <tr>\n",
       "      <th>1</th>\n",
       "      <td>2024-06-20 16:06:58</td>\n",
       "      <td>DOGEUSDT</td>\n",
       "      <td>BUY</td>\n",
       "      <td>0.12182</td>\n",
       "      <td>-0.279796</td>\n",
       "      <td>USDT</td>\n",
       "      <td>1398.98088</td>\n",
       "      <td>USDT</td>\n",
       "      <td>0.0</td>\n",
       "      <td>USDT</td>\n",
       "      <td>DOGE</td>\n",
       "      <td>11484.0</td>\n",
       "      <td>LONG</td>\n",
       "      <td>False</td>\n",
       "      <td>3925368433214965504</td>\n",
       "    </tr>\n",
       "    <tr>\n",
       "      <th>2</th>\n",
       "      <td>2024-06-20 16:06:58</td>\n",
       "      <td>DOGEUSDT</td>\n",
       "      <td>BUY</td>\n",
       "      <td>0.12182</td>\n",
       "      <td>-0.039494</td>\n",
       "      <td>USDT</td>\n",
       "      <td>197.47022</td>\n",
       "      <td>USDT</td>\n",
       "      <td>0.0</td>\n",
       "      <td>USDT</td>\n",
       "      <td>DOGE</td>\n",
       "      <td>1621.0</td>\n",
       "      <td>LONG</td>\n",
       "      <td>False</td>\n",
       "      <td>3925368433214965504</td>\n",
       "    </tr>\n",
       "    <tr>\n",
       "      <th>3</th>\n",
       "      <td>2024-06-20 16:06:56</td>\n",
       "      <td>DOGEUSDT</td>\n",
       "      <td>BUY</td>\n",
       "      <td>0.12182</td>\n",
       "      <td>-0.008284</td>\n",
       "      <td>USDT</td>\n",
       "      <td>16.56752</td>\n",
       "      <td>USDT</td>\n",
       "      <td>0.0</td>\n",
       "      <td>USDT</td>\n",
       "      <td>DOGE</td>\n",
       "      <td>136.0</td>\n",
       "      <td>LONG</td>\n",
       "      <td>True</td>\n",
       "      <td>3925368433214965504</td>\n",
       "    </tr>\n",
       "  </tbody>\n",
       "</table>\n",
       "</div>"
      ],
      "text/plain": [
       "                 time    symbol side      price       fee feeAsset  \\\n",
       "0 2024-06-20 16:07:36   SOLUSDT  BUY  132.53700 -0.994027     USDT   \n",
       "1 2024-06-20 16:06:58  DOGEUSDT  BUY    0.12182 -0.279796     USDT   \n",
       "2 2024-06-20 16:06:58  DOGEUSDT  BUY    0.12182 -0.039494     USDT   \n",
       "3 2024-06-20 16:06:56  DOGEUSDT  BUY    0.12182 -0.008284     USDT   \n",
       "\n",
       "     quantity quantityAsset  realizedProfit realizedProfitAsset baseAsset  \\\n",
       "0  1988.05500          USDT             0.0                USDT       SOL   \n",
       "1  1398.98088          USDT             0.0                USDT      DOGE   \n",
       "2   197.47022          USDT             0.0                USDT      DOGE   \n",
       "3    16.56752          USDT             0.0                USDT      DOGE   \n",
       "\n",
       "       qty positionSide  activeBuy             Port_IDs  \n",
       "0     15.0         LONG       True  3925368433214965504  \n",
       "1  11484.0         LONG      False  3925368433214965504  \n",
       "2   1621.0         LONG      False  3925368433214965504  \n",
       "3    136.0         LONG       True  3925368433214965504  "
      ]
     },
     "execution_count": 35,
     "metadata": {},
     "output_type": "execute_result"
    }
   ],
   "source": [
    "trade_df.head(4)"
   ]
  },
  {
   "cell_type": "code",
   "execution_count": 37,
   "id": "477b1cf1-2aa3-4d1d-ab06-341dcb8d4191",
   "metadata": {},
   "outputs": [],
   "source": [
    "columns_to_extract = [\"time\", \"symbol\", \"side\", \"price\", \"fee\", \"feeAsset\", \"quantity\", \"quantityAsset\", \"realizedProfit\", \"realizedProfitAsset\"]\n",
    "for col in columns_to_extract:\n",
    "    if col not in trade_df.columns:\n",
    "        trade_df[col] = None"
   ]
  },
  {
   "cell_type": "code",
   "execution_count": 39,
   "id": "dde1b9b7-3515-4e19-a986-735660fdfcc7",
   "metadata": {},
   "outputs": [
    {
     "data": {
      "text/html": [
       "<div>\n",
       "<style scoped>\n",
       "    .dataframe tbody tr th:only-of-type {\n",
       "        vertical-align: middle;\n",
       "    }\n",
       "\n",
       "    .dataframe tbody tr th {\n",
       "        vertical-align: top;\n",
       "    }\n",
       "\n",
       "    .dataframe thead th {\n",
       "        text-align: right;\n",
       "    }\n",
       "</style>\n",
       "<table border=\"1\" class=\"dataframe\">\n",
       "  <thead>\n",
       "    <tr style=\"text-align: right;\">\n",
       "      <th></th>\n",
       "      <th>time</th>\n",
       "      <th>symbol</th>\n",
       "      <th>side</th>\n",
       "      <th>price</th>\n",
       "      <th>fee</th>\n",
       "      <th>feeAsset</th>\n",
       "      <th>quantity</th>\n",
       "      <th>quantityAsset</th>\n",
       "      <th>realizedProfit</th>\n",
       "      <th>realizedProfitAsset</th>\n",
       "      <th>baseAsset</th>\n",
       "      <th>qty</th>\n",
       "      <th>positionSide</th>\n",
       "      <th>activeBuy</th>\n",
       "      <th>Port_IDs</th>\n",
       "    </tr>\n",
       "  </thead>\n",
       "  <tbody>\n",
       "    <tr>\n",
       "      <th>0</th>\n",
       "      <td>2024-06-20 16:07:36</td>\n",
       "      <td>SOLUSDT</td>\n",
       "      <td>BUY</td>\n",
       "      <td>132.537000</td>\n",
       "      <td>-0.994027</td>\n",
       "      <td>USDT</td>\n",
       "      <td>1988.055000</td>\n",
       "      <td>USDT</td>\n",
       "      <td>0.0</td>\n",
       "      <td>USDT</td>\n",
       "      <td>SOL</td>\n",
       "      <td>15.0</td>\n",
       "      <td>LONG</td>\n",
       "      <td>True</td>\n",
       "      <td>3925368433214965504</td>\n",
       "    </tr>\n",
       "    <tr>\n",
       "      <th>1</th>\n",
       "      <td>2024-06-20 16:06:58</td>\n",
       "      <td>DOGEUSDT</td>\n",
       "      <td>BUY</td>\n",
       "      <td>0.121820</td>\n",
       "      <td>-0.279796</td>\n",
       "      <td>USDT</td>\n",
       "      <td>1398.980880</td>\n",
       "      <td>USDT</td>\n",
       "      <td>0.0</td>\n",
       "      <td>USDT</td>\n",
       "      <td>DOGE</td>\n",
       "      <td>11484.0</td>\n",
       "      <td>LONG</td>\n",
       "      <td>False</td>\n",
       "      <td>3925368433214965504</td>\n",
       "    </tr>\n",
       "    <tr>\n",
       "      <th>2</th>\n",
       "      <td>2024-06-20 16:06:58</td>\n",
       "      <td>DOGEUSDT</td>\n",
       "      <td>BUY</td>\n",
       "      <td>0.121820</td>\n",
       "      <td>-0.039494</td>\n",
       "      <td>USDT</td>\n",
       "      <td>197.470220</td>\n",
       "      <td>USDT</td>\n",
       "      <td>0.0</td>\n",
       "      <td>USDT</td>\n",
       "      <td>DOGE</td>\n",
       "      <td>1621.0</td>\n",
       "      <td>LONG</td>\n",
       "      <td>False</td>\n",
       "      <td>3925368433214965504</td>\n",
       "    </tr>\n",
       "    <tr>\n",
       "      <th>3</th>\n",
       "      <td>2024-06-20 16:06:56</td>\n",
       "      <td>DOGEUSDT</td>\n",
       "      <td>BUY</td>\n",
       "      <td>0.121820</td>\n",
       "      <td>-0.008284</td>\n",
       "      <td>USDT</td>\n",
       "      <td>16.567520</td>\n",
       "      <td>USDT</td>\n",
       "      <td>0.0</td>\n",
       "      <td>USDT</td>\n",
       "      <td>DOGE</td>\n",
       "      <td>136.0</td>\n",
       "      <td>LONG</td>\n",
       "      <td>True</td>\n",
       "      <td>3925368433214965504</td>\n",
       "    </tr>\n",
       "    <tr>\n",
       "      <th>4</th>\n",
       "      <td>2024-06-20 16:06:56</td>\n",
       "      <td>DOGEUSDT</td>\n",
       "      <td>BUY</td>\n",
       "      <td>0.121820</td>\n",
       "      <td>-0.046109</td>\n",
       "      <td>USDT</td>\n",
       "      <td>92.217740</td>\n",
       "      <td>USDT</td>\n",
       "      <td>0.0</td>\n",
       "      <td>USDT</td>\n",
       "      <td>DOGE</td>\n",
       "      <td>757.0</td>\n",
       "      <td>LONG</td>\n",
       "      <td>True</td>\n",
       "      <td>3925368433214965504</td>\n",
       "    </tr>\n",
       "    <tr>\n",
       "      <th>...</th>\n",
       "      <td>...</td>\n",
       "      <td>...</td>\n",
       "      <td>...</td>\n",
       "      <td>...</td>\n",
       "      <td>...</td>\n",
       "      <td>...</td>\n",
       "      <td>...</td>\n",
       "      <td>...</td>\n",
       "      <td>...</td>\n",
       "      <td>...</td>\n",
       "      <td>...</td>\n",
       "      <td>...</td>\n",
       "      <td>...</td>\n",
       "      <td>...</td>\n",
       "      <td>...</td>\n",
       "    </tr>\n",
       "    <tr>\n",
       "      <th>211272</th>\n",
       "      <td>2024-06-16 14:57:55</td>\n",
       "      <td>JASMYUSDT</td>\n",
       "      <td>SELL</td>\n",
       "      <td>0.035968</td>\n",
       "      <td>-0.025070</td>\n",
       "      <td>USDT</td>\n",
       "      <td>50.139392</td>\n",
       "      <td>USDT</td>\n",
       "      <td>0.0</td>\n",
       "      <td>USDT</td>\n",
       "      <td>JASMY</td>\n",
       "      <td>1394.0</td>\n",
       "      <td>BOTH</td>\n",
       "      <td>False</td>\n",
       "      <td>3768170840939476993</td>\n",
       "    </tr>\n",
       "    <tr>\n",
       "      <th>211273</th>\n",
       "      <td>2024-06-16 14:57:55</td>\n",
       "      <td>JASMYUSDT</td>\n",
       "      <td>SELL</td>\n",
       "      <td>0.035968</td>\n",
       "      <td>-0.008255</td>\n",
       "      <td>USDT</td>\n",
       "      <td>16.509312</td>\n",
       "      <td>USDT</td>\n",
       "      <td>0.0</td>\n",
       "      <td>USDT</td>\n",
       "      <td>JASMY</td>\n",
       "      <td>459.0</td>\n",
       "      <td>BOTH</td>\n",
       "      <td>False</td>\n",
       "      <td>3768170840939476993</td>\n",
       "    </tr>\n",
       "    <tr>\n",
       "      <th>211274</th>\n",
       "      <td>2024-06-16 14:57:55</td>\n",
       "      <td>JASMYUSDT</td>\n",
       "      <td>SELL</td>\n",
       "      <td>0.035969</td>\n",
       "      <td>-0.031545</td>\n",
       "      <td>USDT</td>\n",
       "      <td>63.089626</td>\n",
       "      <td>USDT</td>\n",
       "      <td>0.0</td>\n",
       "      <td>USDT</td>\n",
       "      <td>JASMY</td>\n",
       "      <td>1754.0</td>\n",
       "      <td>BOTH</td>\n",
       "      <td>False</td>\n",
       "      <td>3768170840939476993</td>\n",
       "    </tr>\n",
       "    <tr>\n",
       "      <th>211275</th>\n",
       "      <td>2024-06-16 14:57:55</td>\n",
       "      <td>JASMYUSDT</td>\n",
       "      <td>SELL</td>\n",
       "      <td>0.035969</td>\n",
       "      <td>-0.031905</td>\n",
       "      <td>USDT</td>\n",
       "      <td>63.809006</td>\n",
       "      <td>USDT</td>\n",
       "      <td>0.0</td>\n",
       "      <td>USDT</td>\n",
       "      <td>JASMY</td>\n",
       "      <td>1774.0</td>\n",
       "      <td>BOTH</td>\n",
       "      <td>False</td>\n",
       "      <td>3768170840939476993</td>\n",
       "    </tr>\n",
       "    <tr>\n",
       "      <th>211276</th>\n",
       "      <td>2024-06-16 14:57:55</td>\n",
       "      <td>JASMYUSDT</td>\n",
       "      <td>SELL</td>\n",
       "      <td>0.035972</td>\n",
       "      <td>-0.005018</td>\n",
       "      <td>USDT</td>\n",
       "      <td>10.036188</td>\n",
       "      <td>USDT</td>\n",
       "      <td>0.0</td>\n",
       "      <td>USDT</td>\n",
       "      <td>JASMY</td>\n",
       "      <td>279.0</td>\n",
       "      <td>BOTH</td>\n",
       "      <td>False</td>\n",
       "      <td>3768170840939476993</td>\n",
       "    </tr>\n",
       "  </tbody>\n",
       "</table>\n",
       "<p>211277 rows × 15 columns</p>\n",
       "</div>"
      ],
      "text/plain": [
       "                      time     symbol  side       price       fee feeAsset  \\\n",
       "0      2024-06-20 16:07:36    SOLUSDT   BUY  132.537000 -0.994027     USDT   \n",
       "1      2024-06-20 16:06:58   DOGEUSDT   BUY    0.121820 -0.279796     USDT   \n",
       "2      2024-06-20 16:06:58   DOGEUSDT   BUY    0.121820 -0.039494     USDT   \n",
       "3      2024-06-20 16:06:56   DOGEUSDT   BUY    0.121820 -0.008284     USDT   \n",
       "4      2024-06-20 16:06:56   DOGEUSDT   BUY    0.121820 -0.046109     USDT   \n",
       "...                    ...        ...   ...         ...       ...      ...   \n",
       "211272 2024-06-16 14:57:55  JASMYUSDT  SELL    0.035968 -0.025070     USDT   \n",
       "211273 2024-06-16 14:57:55  JASMYUSDT  SELL    0.035968 -0.008255     USDT   \n",
       "211274 2024-06-16 14:57:55  JASMYUSDT  SELL    0.035969 -0.031545     USDT   \n",
       "211275 2024-06-16 14:57:55  JASMYUSDT  SELL    0.035969 -0.031905     USDT   \n",
       "211276 2024-06-16 14:57:55  JASMYUSDT  SELL    0.035972 -0.005018     USDT   \n",
       "\n",
       "           quantity quantityAsset  realizedProfit realizedProfitAsset  \\\n",
       "0       1988.055000          USDT             0.0                USDT   \n",
       "1       1398.980880          USDT             0.0                USDT   \n",
       "2        197.470220          USDT             0.0                USDT   \n",
       "3         16.567520          USDT             0.0                USDT   \n",
       "4         92.217740          USDT             0.0                USDT   \n",
       "...             ...           ...             ...                 ...   \n",
       "211272    50.139392          USDT             0.0                USDT   \n",
       "211273    16.509312          USDT             0.0                USDT   \n",
       "211274    63.089626          USDT             0.0                USDT   \n",
       "211275    63.809006          USDT             0.0                USDT   \n",
       "211276    10.036188          USDT             0.0                USDT   \n",
       "\n",
       "       baseAsset      qty positionSide  activeBuy             Port_IDs  \n",
       "0            SOL     15.0         LONG       True  3925368433214965504  \n",
       "1           DOGE  11484.0         LONG      False  3925368433214965504  \n",
       "2           DOGE   1621.0         LONG      False  3925368433214965504  \n",
       "3           DOGE    136.0         LONG       True  3925368433214965504  \n",
       "4           DOGE    757.0         LONG       True  3925368433214965504  \n",
       "...          ...      ...          ...        ...                  ...  \n",
       "211272     JASMY   1394.0         BOTH      False  3768170840939476993  \n",
       "211273     JASMY    459.0         BOTH      False  3768170840939476993  \n",
       "211274     JASMY   1754.0         BOTH      False  3768170840939476993  \n",
       "211275     JASMY   1774.0         BOTH      False  3768170840939476993  \n",
       "211276     JASMY    279.0         BOTH      False  3768170840939476993  \n",
       "\n",
       "[211277 rows x 15 columns]"
      ]
     },
     "execution_count": 39,
     "metadata": {},
     "output_type": "execute_result"
    }
   ],
   "source": [
    "trade_df"
   ]
  },
  {
   "cell_type": "code",
   "execution_count": 41,
   "id": "76ade43d-db10-46ca-b2ac-aeb3809d35f5",
   "metadata": {},
   "outputs": [
    {
     "data": {
      "text/plain": [
       "Index(['time', 'symbol', 'side', 'price', 'fee', 'feeAsset', 'quantity',\n",
       "       'quantityAsset', 'realizedProfit', 'realizedProfitAsset', 'baseAsset',\n",
       "       'qty', 'positionSide', 'activeBuy', 'Port_IDs'],\n",
       "      dtype='object')"
      ]
     },
     "execution_count": 41,
     "metadata": {},
     "output_type": "execute_result"
    }
   ],
   "source": [
    "trade_df.columns"
   ]
  },
  {
   "cell_type": "markdown",
   "id": "4afc660a-8faa-4a2f-af7f-5b9f3cc22b12",
   "metadata": {},
   "source": [
    "#### Identify profit column."
   ]
  },
  {
   "cell_type": "code",
   "execution_count": 57,
   "id": "fbbcdd6c-498b-4c4f-abcf-981874e9e85d",
   "metadata": {},
   "outputs": [
    {
     "name": "stdout",
     "output_type": "stream",
     "text": [
      "Detected profit column: realizedProfit\n"
     ]
    }
   ],
   "source": [
    "detected_profit_col = None\n",
    "for col in ['realizedProfit', 'profit', 'PnL', 'netProfit']:\n",
    "    if col in trade_df.columns:\n",
    "        detected_profit_col = col\n",
    "        break\n",
    "\n",
    "if detected_profit_col is None:\n",
    "    raise KeyError(\"No suitable profit column found in dataset.\")\n",
    "\n",
    "print(f\"Detected profit column: {detected_profit_col}\")\n"
   ]
  },
  {
   "cell_type": "code",
   "execution_count": 45,
   "id": "ee0c835d-e847-47a7-9bab-115c6c7343fd",
   "metadata": {},
   "outputs": [
    {
     "data": {
      "text/plain": [
       "Index(['time', 'symbol', 'side', 'price', 'fee', 'feeAsset', 'quantity',\n",
       "       'quantityAsset', 'realizedProfit', 'realizedProfitAsset', 'baseAsset',\n",
       "       'qty', 'positionSide', 'activeBuy', 'Port_IDs'],\n",
       "      dtype='object')"
      ]
     },
     "execution_count": 45,
     "metadata": {},
     "output_type": "execute_result"
    }
   ],
   "source": [
    "trade_df.columns"
   ]
  },
  {
   "cell_type": "code",
   "execution_count": 59,
   "id": "f8355c45-c59d-4ae8-8110-119b1c7e6a43",
   "metadata": {},
   "outputs": [],
   "source": [
    "trade_df['win'] = trade_df[detected_profit_col] > 0"
   ]
  },
  {
   "cell_type": "code",
   "execution_count": 61,
   "id": "31837bc7-62d8-448c-81ca-b9b1e23f28a5",
   "metadata": {},
   "outputs": [
    {
     "name": "stdout",
     "output_type": "stream",
     "text": [
      "              Port_IDs  realizedProfit    win\n",
      "0  3925368433214965504             0.0  False\n",
      "1  3925368433214965504             0.0  False\n",
      "2  3925368433214965504             0.0  False\n",
      "3  3925368433214965504             0.0  False\n",
      "4  3925368433214965504             0.0  False\n",
      "5  3925368433214965504             0.0  False\n",
      "6  3925368433214965504             0.0  False\n",
      "7  3925368433214965504             0.0  False\n",
      "8  3925368433214965504             0.0  False\n",
      "9  3925368433214965504             0.0  False\n"
     ]
    }
   ],
   "source": [
    "print(trade_df[['Port_IDs', detected_profit_col, 'win']].head(10))\n"
   ]
  },
  {
   "cell_type": "code",
   "execution_count": 78,
   "id": "613c7fc1-3403-4ca2-8377-867bbe9a0c2e",
   "metadata": {},
   "outputs": [
    {
     "data": {
      "text/plain": [
       "(211277, 16)"
      ]
     },
     "execution_count": 78,
     "metadata": {},
     "output_type": "execute_result"
    }
   ],
   "source": [
    "trade_df.shape\n"
   ]
  },
  {
   "cell_type": "markdown",
   "id": "a67c2675-61f7-4032-bd77-98ebe8a07145",
   "metadata": {},
   "source": [
    "#### Calculate metrics."
   ]
  },
  {
   "cell_type": "code",
   "execution_count": 86,
   "id": "da6692b4-791a-4532-a7bb-a7157b29332d",
   "metadata": {},
   "outputs": [
    {
     "name": "stdout",
     "output_type": "stream",
     "text": [
      "              Port_IDs          ROI          PnL   Win Rate  Win Positions  \\\n",
      "0  3672754654734989568   603.174140   566.597660  44.303797            210   \n",
      "1  3733192481840423936     9.885722  2923.977200  80.261248            553   \n",
      "2  3768170840939476993    24.399009   243.668899  42.857143              6   \n",
      "3  3784403294629753856  1307.463306  2521.814305  30.231405           1829   \n",
      "4  3786761687746711808    26.283582   205.021400  45.121951             37   \n",
      "\n",
      "   Total Positions  \n",
      "0              474  \n",
      "1              689  \n",
      "2               14  \n",
      "3             6050  \n",
      "4               82  \n"
     ]
    }
   ],
   "source": [
    "def calculate_metrics(trade_df):\n",
    "    results = []\n",
    "    risk_free_rate = 0  \n",
    "\n",
    "    if detected_profit_col is None:\n",
    "        raise KeyError(\"Profit column not found!\")\n",
    "\n",
    "    if trade_df.empty:\n",
    "        print(\"Warning: trade_df is empty!\")\n",
    "        return pd.DataFrame()  \n",
    "\n",
    "    for account, group in trade_df.groupby(\"Port_IDs\"):\n",
    "        total_pnl = group[detected_profit_col].sum()\n",
    "        \n",
    "        if 'quantity' in group.columns and not group['quantity'].isnull().all():\n",
    "            initial_balance = group.iloc[0]['quantity'] if group.iloc[0]['quantity'] != 0 else 1\n",
    "        else:\n",
    "            initial_balance = 1\n",
    "\n",
    "        roi = (total_pnl / initial_balance) * 100\n",
    "        win_positions = group['win'].sum()\n",
    "        total_positions = len(group)\n",
    "        win_rate = (win_positions / total_positions) * 100 if total_positions > 0 else 0\n",
    "\n",
    "        results.append([account, roi, total_pnl, win_rate, win_positions, total_positions])\n",
    "\n",
    "    return pd.DataFrame(results, columns=[\"Port_IDs\", \"ROI\", \"PnL\", \"Win Rate\", \"Win Positions\", \"Total Positions\"])\n",
    "\n",
    "metrics_df = calculate_metrics(trade_df)\n",
    "print(metrics_df.head())  \n"
   ]
  },
  {
   "cell_type": "markdown",
   "id": "b70215c8-1a60-4ee8-a840-ee2eeae2bf46",
   "metadata": {},
   "source": [
    "## Sharpe Ratio Calculation."
   ]
  },
  {
   "cell_type": "code",
   "execution_count": 100,
   "id": "ed9dcff7-f8d0-4e98-9b15-ddbe178e4ebc",
   "metadata": {},
   "outputs": [
    {
     "name": "stderr",
     "output_type": "stream",
     "text": [
      "C:\\Users\\aman0\\anaconda_distribution\\Lib\\site-packages\\numpy\\core\\_methods.py:49: RuntimeWarning: invalid value encountered in reduce\n",
      "  return umr_sum(a, axis, dtype, out, keepdims, initial, where)\n",
      "C:\\Users\\aman0\\anaconda_distribution\\Lib\\site-packages\\numpy\\core\\fromnumeric.py:59: RuntimeWarning: invalid value encountered in accumulate\n",
      "  return bound(*args, **kwds)\n"
     ]
    },
    {
     "name": "stdout",
     "output_type": "stream",
     "text": [
      "              Port_IDs          ROI          PnL  Sharpe Ratio  MDD  \\\n",
      "0  3672754654734989568   603.174140   566.597660           NaN -1.0   \n",
      "1  3733192481840423936     9.885722  2923.977200           NaN  NaN   \n",
      "2  3768170840939476993    24.399009   243.668899           NaN  NaN   \n",
      "3  3784403294629753856  1307.463306  2521.814305           NaN -1.0   \n",
      "4  3786761687746711808    26.283582   205.021400           NaN  NaN   \n",
      "\n",
      "    Win Rate  Win Positions  Total Positions  \n",
      "0  44.303797            210              474  \n",
      "1  80.261248            553              689  \n",
      "2  42.857143              6               14  \n",
      "3  30.231405           1829             6050  \n",
      "4  45.121951             37               82  \n"
     ]
    },
    {
     "name": "stderr",
     "output_type": "stream",
     "text": [
      "C:\\Users\\aman0\\anaconda_distribution\\Lib\\site-packages\\numpy\\core\\fromnumeric.py:59: RuntimeWarning: invalid value encountered in accumulate\n",
      "  return bound(*args, **kwds)\n",
      "C:\\Users\\aman0\\anaconda_distribution\\Lib\\site-packages\\numpy\\core\\_methods.py:49: RuntimeWarning: invalid value encountered in reduce\n",
      "  return umr_sum(a, axis, dtype, out, keepdims, initial, where)\n"
     ]
    }
   ],
   "source": [
    "def calculate_metrics(trade_df):\n",
    "    results = []\n",
    "    risk_free_rate = 0 \n",
    "\n",
    "    for account, group in trade_df.groupby(\"Port_IDs\"):\n",
    "        total_pnl = group[detected_profit_col].sum()\n",
    "        initial_balance = group.iloc[0]['quantity'] if 'quantity' in group.columns and group.iloc[0]['quantity'] != 0 else 1\n",
    "        roi = (total_pnl / initial_balance) * 100\n",
    "        win_positions = group['win'].sum()\n",
    "        total_positions = len(group)\n",
    "        win_rate = (win_positions / total_positions) * 100 if total_positions > 0 else 0\n",
    "\n",
    "        if len(group) > 1 and detected_profit_col in group.columns:\n",
    "            daily_returns = group[detected_profit_col].pct_change().dropna()\n",
    "            sharpe_ratio = (daily_returns.mean() - risk_free_rate) / daily_returns.std() if not daily_returns.empty and daily_returns.std() != 0 else 0\n",
    "        else:\n",
    "            sharpe_ratio = 0  \n",
    "        if len(group) > 1 and detected_profit_col in group.columns:\n",
    "            cumulative_returns = (1 + daily_returns).cumprod() if not daily_returns.empty else pd.Series([1])\n",
    "            peak = cumulative_returns.cummax()\n",
    "            drawdown = (cumulative_returns - peak) / peak\n",
    "            max_drawdown = drawdown.min()\n",
    "        else:\n",
    "            max_drawdown = 0  \n",
    "        results.append([account, roi, total_pnl, sharpe_ratio, max_drawdown, win_rate, win_positions, total_positions])\n",
    "\n",
    "    return pd.DataFrame(results, columns=[\"Port_IDs\", \"ROI\", \"PnL\", \"Sharpe Ratio\", \"MDD\", \"Win Rate\", \"Win Positions\", \"Total Positions\"])\n",
    "\n",
    "\n",
    "metrics_df = calculate_metrics(trade_df)\n",
    "print(metrics_df.head())  \n"
   ]
  },
  {
   "cell_type": "markdown",
   "id": "70a712d1-31a5-4ded-a375-e726a09daeee",
   "metadata": {},
   "source": [
    "##  Maximum Drawdown Calculation."
   ]
  },
  {
   "cell_type": "code",
   "execution_count": 105,
   "id": "aba80b72-771f-4478-88ff-42ca7fccd5f1",
   "metadata": {},
   "outputs": [
    {
     "name": "stderr",
     "output_type": "stream",
     "text": [
      "C:\\Users\\aman0\\anaconda_distribution\\Lib\\site-packages\\numpy\\core\\_methods.py:49: RuntimeWarning: invalid value encountered in reduce\n",
      "  return umr_sum(a, axis, dtype, out, keepdims, initial, where)\n",
      "C:\\Users\\aman0\\anaconda_distribution\\Lib\\site-packages\\numpy\\core\\fromnumeric.py:59: RuntimeWarning: invalid value encountered in accumulate\n",
      "  return bound(*args, **kwds)\n"
     ]
    },
    {
     "name": "stdout",
     "output_type": "stream",
     "text": [
      "              Port_IDs          ROI          PnL  Sharpe Ratio  MDD  \\\n",
      "0  3672754654734989568   603.174140   566.597660           NaN -1.0   \n",
      "1  3733192481840423936     9.885722  2923.977200           NaN  NaN   \n",
      "2  3768170840939476993    24.399009   243.668899           NaN  NaN   \n",
      "3  3784403294629753856  1307.463306  2521.814305           NaN -1.0   \n",
      "4  3786761687746711808    26.283582   205.021400           NaN  NaN   \n",
      "\n",
      "    Win Rate  Win Positions  Total Positions  \n",
      "0  44.303797            210              474  \n",
      "1  80.261248            553              689  \n",
      "2  42.857143              6               14  \n",
      "3  30.231405           1829             6050  \n",
      "4  45.121951             37               82  \n"
     ]
    }
   ],
   "source": [
    "def calculate_metrics(trade_df):\n",
    "    results = [[acc, (g[detected_profit_col].sum() / (g.iloc[0].get('quantity', 1) or 1)) * 100, g[detected_profit_col].sum(), \n",
    "                (r.mean() / r.std()) if (len(r := g[detected_profit_col].pct_change().dropna()) > 1 and r.std() != 0) else 0, \n",
    "                ((1 + r).cumprod().sub((1 + r).cumprod().cummax()).div((1 + r).cumprod().cummax())).min() if len(r) > 1 else 0, \n",
    "                (w := g['win'].sum()) / len(g) * 100 if len(g) > 0 else 0, w, len(g)] \n",
    "               for acc, g in trade_df.groupby(\"Port_IDs\")]\n",
    "    return pd.DataFrame(results, columns=[\"Port_IDs\", \"ROI\", \"PnL\", \"Sharpe Ratio\", \"MDD\", \"Win Rate\", \"Win Positions\", \"Total Positions\"])\n",
    "\n",
    "metrics_df = calculate_metrics(trade_df)\n",
    "print(metrics_df.head())\n"
   ]
  },
  {
   "cell_type": "markdown",
   "id": "87576d43-8711-4a38-b4c4-162d09aa72ff",
   "metadata": {},
   "source": [
    "## Ranking Algorithm."
   ]
  },
  {
   "cell_type": "code",
   "execution_count": 126,
   "id": "14af0ad7-b38d-47a6-9e08-127fbba3361f",
   "metadata": {},
   "outputs": [
    {
     "name": "stdout",
     "output_type": "stream",
     "text": [
      "                Port_IDs       ROI       PnL  Sharpe Ratio       MDD  \\\n",
      "69   3993222640082269952  0.252693  0.033745           NaN -0.008952   \n",
      "101  4023616625178799873  0.237715  0.034227           NaN       NaN   \n",
      "121  4031181049693676544  0.300000  0.040054           NaN -0.041746   \n",
      "99   4022565861939831809  0.137808  0.062942           NaN       NaN   \n",
      "27   3931992636670880512  0.162707  0.053878           NaN       NaN   \n",
      "\n",
      "     Win Rate  Win Positions  Total Positions     Score  \n",
      "69   0.115754           1434             3087  0.393240  \n",
      "101  0.102145            339              827  0.374087  \n",
      "121  0.060234             73              302  0.358542  \n",
      "99   0.131486            372              705  0.332236  \n",
      "27   0.100086           2430             6050  0.316671  \n"
     ]
    }
   ],
   "source": [
    "weights = {\"ROI\": 0.3, \"PnL\": 0.2, \"Sharpe Ratio\": 0.2, \"MDD\": -0.1, \"Win Rate\": 0.2}\n",
    "for col, weight in weights.items():\n",
    "    metrics_df[col] = (metrics_df[col] - metrics_df[col].min()) / (metrics_df[col].max() - metrics_df[col].min())\n",
    "    metrics_df[col] *= weight\n",
    "\n",
    "metrics_df[\"Score\"] = metrics_df[list(weights.keys())].sum(axis=1)\n",
    "metrics_df.sort_values(by=\"Score\", ascending=False, inplace=True)\n",
    "print(metrics_df.sort_values(by=\"Score\", ascending=False).head())\n",
    "\n"
   ]
  },
  {
   "cell_type": "code",
   "execution_count": 132,
   "id": "c7545c42-3bb2-441c-9a55-723fd758ee1c",
   "metadata": {},
   "outputs": [
    {
     "data": {
      "text/plain": [
       "Index(['time', 'symbol', 'side', 'price', 'fee', 'feeAsset', 'quantity',\n",
       "       'quantityAsset', 'realizedProfit', 'realizedProfitAsset', 'baseAsset',\n",
       "       'qty', 'positionSide', 'activeBuy', 'Port_IDs', 'win'],\n",
       "      dtype='object')"
      ]
     },
     "execution_count": 132,
     "metadata": {},
     "output_type": "execute_result"
    }
   ],
   "source": [
    "trade_df.columns"
   ]
  },
  {
   "cell_type": "code",
   "execution_count": 140,
   "id": "8a41c741-2d93-442c-ba4d-0581dc2ffc77",
   "metadata": {},
   "outputs": [
    {
     "name": "stdout",
     "output_type": "stream",
     "text": [
      "                Port_IDs       ROI       PnL  Sharpe Ratio       MDD  \\\n",
      "69   3993222640082269952  0.252693  0.033745           NaN -0.008952   \n",
      "101  4023616625178799873  0.237715  0.034227           NaN       NaN   \n",
      "121  4031181049693676544  0.300000  0.040054           NaN -0.041746   \n",
      "99   4022565861939831809  0.137808  0.062942           NaN       NaN   \n",
      "27   3931992636670880512  0.162707  0.053878           NaN       NaN   \n",
      "72   3996598927198996481  0.196038  0.037597           NaN -0.008952   \n",
      "14   3886752488982104320  0.086255  0.046338           NaN -0.008952   \n",
      "96   4020204877254599680  0.006623  0.200000           NaN -0.009294   \n",
      "62   3986814617275053313  0.011550  0.068016           NaN       NaN   \n",
      "16   3891020560590657281  0.083789  0.036049           NaN -0.008952   \n",
      "75   3999240873283311617  0.010631  0.130229           NaN -0.008952   \n",
      "37   3944088772635000577  0.089628  0.047254           NaN       NaN   \n",
      "1    3733192481840423936  0.005854  0.036210           NaN       NaN   \n",
      "17   3907081197088384000  0.011133  0.071996           NaN       NaN   \n",
      "48   3956076827719377409  0.030659  0.069089           NaN       NaN   \n",
      "36   3943533600390906881  0.055743  0.034876           NaN -0.008952   \n",
      "47   3956048468100538880  0.005834  0.032533           NaN       NaN   \n",
      "100  4022641794255717633  0.070271  0.034438           NaN       NaN   \n",
      "107  4028701921959171840  0.006399  0.071013           NaN       NaN   \n",
      "50   3960874214179953664  0.006161  0.075675           NaN       NaN   \n",
      "\n",
      "     Win Rate  Win Positions  Total Positions     Score  \n",
      "69   0.115754           1434             3087  0.393240  \n",
      "101  0.102145            339              827  0.374087  \n",
      "121  0.060234             73              302  0.358542  \n",
      "99   0.131486            372              705  0.332236  \n",
      "27   0.100086           2430             6050  0.316671  \n",
      "72   0.091771            980             2661  0.316454  \n",
      "14   0.185743            931             1249  0.309383  \n",
      "96   0.082087           1993             6050  0.279416  \n",
      "62   0.194918           2780             3554  0.274484  \n",
      "16   0.161372            283              437  0.272258  \n",
      "75   0.130379           2366             4522  0.262287  \n",
      "37   0.114010           2774             6063  0.250891  \n",
      "1    0.200000            553              689  0.242064  \n",
      "17   0.152993           2540             4137  0.236122  \n",
      "48   0.128475           2019             3916  0.228223  \n",
      "36   0.136564            964             1759  0.218231  \n",
      "47   0.177990             20               28  0.216358  \n",
      "100  0.108453           2634             6052  0.213162  \n",
      "107  0.135293            373              687  0.212705  \n",
      "50   0.128501           1233             2391  0.210337  \n"
     ]
    }
   ],
   "source": [
    "top_20 = metrics_df.head(20)\n",
    "print(top_20)"
   ]
  },
  {
   "cell_type": "code",
   "execution_count": 144,
   "id": "6e5e6654-b9b5-41db-a899-d56908f8fae8",
   "metadata": {},
   "outputs": [],
   "source": [
    "metrics_df.to_csv(\"calculated_metrics.csv\", index=False)\n",
    "top_20.to_csv(\"top_20_accounts.csv\", index=False)"
   ]
  },
  {
   "cell_type": "markdown",
   "id": "dd62f030-143b-45b5-a846-61409a191050",
   "metadata": {},
   "source": [
    "## Plotting graph of Top 20 Accounts."
   ]
  },
  {
   "cell_type": "code",
   "execution_count": 146,
   "id": "9359d5e1-1179-4210-b2dc-ff9efaa1ae87",
   "metadata": {},
   "outputs": [
    {
     "data": {
      "image/png": "[encoded data removed]",
      "text/plain": [
       "<Figure size 1000x500 with 1 Axes>"
      ]
     },
     "metadata": {},
     "output_type": "display_data"
    }
   ],
   "source": [
    "plt.figure(figsize=(10, 5))\n",
    "sns.barplot(data=top_20, x=\"Port_IDs\", y=\"Score\", palette=\"viridis\", hue=\"Port_IDs\", dodge=False)\n",
    "plt.xticks(rotation=90)\n",
    "plt.title(\"Top 20 Accounts by Score\")\n",
    "plt.legend([],[], frameon=False)\n",
    "plt.show()\n"
   ]
  },
  {
   "cell_type": "markdown",
   "id": "58e4c4ef-fc65-4917-9eac-ad0a47b21539",
   "metadata": {},
   "source": [
    "## Generate Report."
   ]
  },
  {
   "cell_type": "code",
   "execution_count": 154,
   "id": "91b17f3b-7165-4ca5-bc0a-4e500383d2c5",
   "metadata": {},
   "outputs": [],
   "source": [
    "report = \"\"\"\n",
    "### Binance Trade Analysis Report\n",
    "\n",
    "#### Data Overview\n",
    "- Number of Accounts: {}\n",
    "- Number of Trades: {}\n",
    "\n",
    "#### Key Metrics Computed\n",
    "- ROI (Return on Investment)\n",
    "- PnL (Profit and Loss)\n",
    "- Sharpe Ratio (Risk-adjusted return measure)\n",
    "- Maximum Drawdown (MDD - Risk assessment metric)\n",
    "- Win Rate (Percentage of profitable trades)\n",
    "- Win Positions & Total Positions\n",
    "\n",
    "#### Ranking Methodology\n",
    "A weighted ranking system was used:\n",
    "- ROI: 30%\n",
    "- PnL: 20%\n",
    "- Sharpe Ratio: 20%\n",
    "- MDD: -10% (negative weight as it's a risk metric)\n",
    "- Win Rate: 20%\n",
    "\n",
    "#### Findings\n",
    "- The top 20 performing accounts based on ranking are saved in `top_20_accounts.csv`.\n",
    "- The full calculated metrics are saved in `calculated_metrics.csv`.\n",
    "- Additional visualizations provide insights into ROI and Sharpe Ratio distributions.\n",
    "\n",
    "#### Conclusion\n",
    "This analysis provides a comprehensive ranking of Binance trading accounts based on multiple financial performance metrics.\n",
    "\"\"\".format(len(metrics_df), len(trade_df))\n",
    "\n",
    "with open(\"trade_analysis_report.txt\", \"w\") as f:\n",
    "    f.write(report)"
   ]
  },
  {
   "cell_type": "markdown",
   "id": "18bbb9c4-57f8-41f3-8b88-ea9856af9466",
   "metadata": {},
   "source": []
  },
  {
   "cell_type": "code",
   "execution_count": 156,
   "id": "2c0fb24d-3f99-419d-bb4e-e59e879aae23",
   "metadata": {},
   "outputs": [
    {
     "name": "stdout",
     "output_type": "stream",
     "text": [
      "Report saved as trade_analysis_report.txt\n"
     ]
    }
   ],
   "source": [
    "print(\"Report saved as trade_analysis_report.txt\")"
   ]
  },
  {
   "cell_type": "code",
   "execution_count": null,
   "id": "c0fdb191-9ad3-465e-909e-03d9a6c1a01e",
   "metadata": {},
   "outputs": [],
   "source": []
  }
 ],
 "metadata": {
  "kernelspec": {
   "display_name": "Python 3 (ipykernel)",
   "language": "python",
   "name": "python3"
  },
  "language_info": {
   "codemirror_mode": {
    "name": "ipython",
    "version": 3
   },
   "file_extension": ".py",
   "mimetype": "text/x-python",
   "name": "python",
   "nbconvert_exporter": "python",
   "pygments_lexer": "ipython3",
   "version": "3.12.3"
  }
 },
 "nbformat": 4,
 "nbformat_minor": 5
}
